import numpy as np

def create_board():
    board = np.zeros((3, 3), dtype=int)
    return board

def place(board, player, position):
    if board[position] == 0:
        board[position] = player
    return board

board = create_board()
place (board, 1, (0, 0))

def possibilities(board):
    return (list(zip(*np.where(board==0))))
    
possibilities(board)

import random
# random.seed(1)
def random_place(board, player):
    selections = possibilities(board)
    if not selections:
        return board
    selection = random.choice(selections)
    board = place(board, player, selection)
    return board

random_place(board, 2)
# print(board)

# random.seed(1)
board = create_board()
for i in range(3):
    for player in [1, 2]:
        random_place(board, player)

# print(board)

def row_win(board, player):
    if np.any(np.all(board==player, axis=1)):
        return True
    else:
        return False

row_win(board, 1)

def col_win(board, player):
    if np.any(np.all(board==player, axis=0)):
        return True
    else:
        return False

col_win(board, 1)

board[1,1] = 2

def diag_win(board, player):
    if np.any(np.all(np.diag(board)==player)) or np.all(np.diag(np.fliplr(board))==player):
        return True
    else:
        return False
    
diag_win(board, 2)

def evaluate(board):
    winner = 0
    for player in [1, 2]:
        if row_win(board, player) or col_win(board, player) or diag_win(board, player):
            winner = player
        # add your code here!
        pass
    if np.all(board != 0) and winner == 0:
        winner = -1
    return winner

evaluate(board)

# random.seed(1)

def play_game():
    board = create_board()
    winner = 0
    player = 1
    while (winner == 0):
        board = random_place(board, player)
        if player == 1:
            player = 2
        else:
            player = 1
        winner = evaluate(board)
    return winner

results = list()
for i in range(1000):
    results.append(play_game())
results.count(1)
print("Number of times Player 1 has won out of 1000 games :")
print(results.count(1))

# random.seed(1)

def play_strategic_game():
    board = create_board()
    place (board, 1, (1, 1))
    winner = 0
    player = 2
    while (winner == 0):
        board = random_place(board, player)
        if player == 2:
            player = 1
        else:
            player = 2
        winner = evaluate(board)
    return winner

results1 = list()
for i in range(1000):
    results1.append(play_strategic_game())
results1.count(1)
print("Number of times Player 1 has won out of 1000 games after application of improvised strategy:")
print(results1.count(1))
